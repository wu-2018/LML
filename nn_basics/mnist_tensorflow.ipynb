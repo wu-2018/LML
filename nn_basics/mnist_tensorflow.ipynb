{
 "cells": [
  {
   "cell_type": "markdown",
   "metadata": {},
   "source": [
    "## Getting started with MNIST!\n",
    "\n",
    "A fully connected neural network with 3 layers"
   ]
  },
  {
   "cell_type": "code",
   "execution_count": 9,
   "metadata": {},
   "outputs": [],
   "source": [
    "import tensorflow as tf\n",
    "import numpy as np"
   ]
  },
  {
   "cell_type": "code",
   "execution_count": 12,
   "metadata": {},
   "outputs": [
    {
     "name": "stdout",
     "output_type": "stream",
     "text": [
      "Extracting data/train-images-idx3-ubyte.gz\n",
      "Extracting data/train-labels-idx1-ubyte.gz\n",
      "Extracting data/t10k-images-idx3-ubyte.gz\n",
      "Extracting data/t10k-labels-idx1-ubyte.gz\n"
     ]
    }
   ],
   "source": [
    "from tensorflow.examples.tutorials.mnist import input_data\n",
    "mnist = input_data.read_data_sets('data/', one_hot=True)"
   ]
  },
  {
   "cell_type": "code",
   "execution_count": 14,
   "metadata": {},
   "outputs": [
    {
     "name": "stdout",
     "output_type": "stream",
     "text": [
      "epoch          cost           accuracy       \n",
      "0              406959.94      0.11           \n",
      "200            14840.541      0.86           \n",
      "400            7991.1436      0.9            \n",
      "600            9530.519       0.91           \n",
      "800            5554.042       0.92           \n",
      "1000           2086.233       0.98           \n",
      "1200           5356.8506      0.94           \n",
      "1400           2723.9         0.92           \n",
      "1600           3207.8237      0.97           \n",
      "1800           4064.5605      0.97           \n",
      "2000           1357.243       0.96           \n",
      "2200           2594.0073      0.96           \n",
      "2400           2161.94        0.99           \n",
      "2600           558.34155      0.99           \n",
      "2800           1034.8483      0.97           \n",
      "3000           2431.2268      0.93           \n",
      "3200           847.3416       0.99           \n",
      "3400           15.7771        1.0            \n",
      "3600           271.13574      0.99           \n",
      "3800           24.399902      1.0            \n",
      "4000           380.54474      0.99           \n",
      "4200           327.7859       0.99           \n",
      "4400           0.0            1.0            \n",
      "4600           285.448        0.98           \n",
      "4800           158.2002       1.0            \n",
      "5000           0.0            1.0            \n",
      "5200           0.0            1.0            \n",
      "5400           23.375977      1.0            \n",
      "5600           0.0            1.0            \n",
      "5800           0.0            1.0            \n",
      "6000           896.25366      0.99           \n",
      "6200           0.0            1.0            \n",
      "6400           1226.6045      0.98           \n",
      "6600           525.9487       0.99           \n",
      "6800           0.0            1.0            \n",
      "7000           0.0            1.0            \n",
      "7200           0.0            1.0            \n",
      "7400           0.74431974     1.0            \n",
      "7600           5.960463e-07   0.99           \n",
      "7800           0.0            1.0            \n",
      "8000           0.0            1.0            \n",
      "8200           78.8811        1.0            \n",
      "8400           0.0            1.0            \n",
      "8600           0.0            1.0            \n",
      "8800           0.0            1.0            \n",
      "9000           287.18823      1.0            \n",
      "9200           5.1981688      1.0            \n",
      "9400           0.0            1.0            \n",
      "9600           117.95874      1.0            \n",
      "9800           0.0            1.0            \n",
      "Accuray on testing set:\n",
      "0.9607\n"
     ]
    }
   ],
   "source": [
    "n_input = 28 * 28\n",
    "n_layer1 = 400    #hiden layer1\n",
    "n_layer2 = 1000   #hiden layer2\n",
    "n_output = 10\n",
    "\n",
    "X = tf.placeholder(tf.float32, [None, n_input])\n",
    "Y = tf.placeholder(tf.float32, [None, n_output])\n",
    "\n",
    "layer1_wb = {'w': tf.Variable(tf.random_normal([n_input, n_layer1])),\n",
    "             'b': tf.Variable(tf.random_normal([n_layer1]))}\n",
    "layer2_wb = {'w': tf.Variable(tf.random_normal([n_layer1, n_layer2])),\n",
    "             'b': tf.Variable(tf.random_normal([n_layer2]))}\n",
    "output_wb = {'w': tf.Variable(tf.random_normal([n_layer2, n_output])),\n",
    "             'b': tf.Variable(tf.random_normal([n_output]))}\n",
    "\n",
    "layer1 = tf.nn.relu(tf.add(tf.matmul(X, layer1_wb['w']), layer1_wb['b']))\n",
    "layer2 = tf.nn.relu(tf.add(tf.matmul(layer1, layer2_wb['w']), layer2_wb['b']))\n",
    "output = tf.add(tf.matmul(layer2, output_wb['w']), output_wb['b'])\n",
    "\n",
    "batch_size = 100\n",
    "format_print = lambda li : \"\".join(str(i).ljust(15) for i in li)\n",
    "\n",
    "\n",
    "def train():\n",
    "    y_predicted = output\n",
    "    cost = tf.reduce_sum(tf.nn.softmax_cross_entropy_with_logits(logits=y_predicted, labels=Y))\n",
    "    optimizer = tf.train.AdamOptimizer().minimize(cost)\n",
    "    \n",
    "    correct = tf.equal(tf.argmax(y_predicted, 1), tf.argmax(Y, 1))\n",
    "    accuracy = tf.reduce_mean(tf.cast(correct, tf.float32))\n",
    "    \n",
    "    epochs = 10000\n",
    "    with tf.Session() as sess:\n",
    "        sess.run(tf.global_variables_initializer())\n",
    "        \n",
    "        print(format_print([\"epoch\",\"cost\",\"accuracy\"]))\n",
    "        for i in range(epochs):\n",
    "            x,y = mnist.train.next_batch(batch_size)\n",
    "            _,c = sess.run([optimizer, cost], feed_dict={X:x, Y:y})\n",
    "            train_acc = sess.run(accuracy, feed_dict={X:x, Y:y})\n",
    "            \n",
    "            if i%200 == 0:\n",
    "                print(format_print([i, c, train_acc]))\n",
    "            \n",
    "        train_acc = sess.run(accuracy, feed_dict={X:mnist.test.images, Y:mnist.test.labels})\n",
    "        print(\"Accuray on testing set:\")\n",
    "        print(train_acc)\n",
    "\n",
    "train()"
   ]
  },
  {
   "cell_type": "code",
   "execution_count": 8,
   "metadata": {},
   "outputs": [],
   "source": []
  }
 ],
 "metadata": {
  "kernelspec": {
   "display_name": "Python 3",
   "language": "python",
   "name": "python3"
  },
  "language_info": {
   "codemirror_mode": {
    "name": "ipython",
    "version": 3
   },
   "file_extension": ".py",
   "mimetype": "text/x-python",
   "name": "python",
   "nbconvert_exporter": "python",
   "pygments_lexer": "ipython3",
   "version": "3.6.7"
  }
 },
 "nbformat": 4,
 "nbformat_minor": 2
}
